{
 "metadata": {
  "anaconda-cloud": {},
  "kernelspec": {
   "display_name": "Python 2",
   "language": "python",
   "name": "python2"
  },
  "language_info": {
   "codemirror_mode": {
    "name": "ipython",
    "version": 2
   },
   "file_extension": ".py",
   "mimetype": "text/x-python",
   "name": "python",
   "nbconvert_exporter": "python",
   "pygments_lexer": "ipython2",
   "version": "2.7.13"
  },
  "name": ""
 },
 "nbformat": 3,
 "nbformat_minor": 0,
 "worksheets": [
  {
   "cells": [
    {
     "cell_type": "markdown",
     "metadata": {},
     "source": [
      "<span style=\"float:left;\">Licence CC BY-SA</span><span style=\"float:right;\">Fabrice Zaoui - Cedric Goeury&nbsp;</span><br/>\n",
      "___"
     ]
    },
    {
     "cell_type": "markdown",
     "metadata": {},
     "source": [
      "This tutorial is intended for people who want an example showing how to optimize a Telemac 2D case with the deterministic algorithm based on the SciPy package."
     ]
    },
    {
     "cell_type": "heading",
     "level": 1,
     "metadata": {},
     "source": [
      "Import Optimizer from TelApy"
     ]
    },
    {
     "cell_type": "code",
     "collapsed": false,
     "input": [
      "from TelApy.tools import newop"
     ],
     "language": "python",
     "metadata": {},
     "outputs": [],
     "prompt_number": 1
    },
    {
     "cell_type": "markdown",
     "metadata": {},
     "source": [
      "The module 'newop' is located in the '$HOMETEL/scripts/python27/TelApy/tools' directory. If an error occurs while attempting to import, check the value of the environment variable PYTHONPATH.\n"
     ]
    },
    {
     "cell_type": "markdown",
     "metadata": {},
     "source": [
      "'newop' uses the SciPy optimizer named 'minimizer' based on the quasi-Newton deterministic algorithm L-BFGS-B."
     ]
    },
    {
     "cell_type": "code",
     "collapsed": false,
     "input": [
      "help(newop)"
     ],
     "language": "python",
     "metadata": {},
     "outputs": [
      {
       "output_type": "stream",
       "stream": "stdout",
       "text": [
        "Help on package TelApy.tools.newop in TelApy.tools:\n",
        "\n",
        "NAME\n",
        "    TelApy.tools.newop - NEWOP : a Python (v2) Newton Optimizer\n",
        "\n",
        "FILE\n",
        "    /home/I21149/Modeles/TELEMAC/weirdfish/scripts/python27/TelApy/tools/newop/__init__.py\n",
        "\n",
        "DESCRIPTION\n",
        "    Based on the SciPy Minimizer function\n",
        "    \n",
        "    Auteur : Fabrice Zaoui (EDF R&D LNHE)\n",
        "    \n",
        "    Copyright EDF 2017\n",
        "\n",
        "PACKAGE CONTENTS\n",
        "    newop\n",
        "    numval\n",
        "    validate\n",
        "\n",
        "CLASSES\n",
        "    __builtin__.object\n",
        "        TelApy.tools.newop.newop.Newop\n",
        "    \n",
        "    class Newop(__builtin__.object)\n",
        "     |  The base class for the SciPy Opimization\n",
        "     |  \n",
        "     |  Methods defined here:\n",
        "     |  \n",
        "     |  __init__(self, dx=1e-06, maxfun=2000, verbose=True)\n",
        "     |      Initialize some algorithmic parameters to default values\n",
        "     |      :return: a new object from Newop\n",
        "     |  \n",
        "     |  initialize(self, func, nvar, bounds, vdx=None)\n",
        "     |      Description of the minimization problem\n",
        "     |      :param 'f': the name of the python function where the cost function            is implemented (type: str)\n",
        "     |      :param 'n': the number of optimization variables (type: int)\n",
        "     |      :param 'bounds': a numpy array for the lower and upper bounds of            optimization variables (type: int)\n",
        "     |      :param 'vdx': the finite difference steps for each variable\n",
        "     |      :return: error code = 0 if successful (type: int)\n",
        "     |  \n",
        "     |  optimize(self, varx0, niter=100, nproc=1)\n",
        "     |      Do the l-bfgs-b algorithm with 'niter' iterations\n",
        "     |      :param 'varx0': initial guess\n",
        "     |      :param 'niter': the maximal number of iterations\n",
        "     |      :param 'nproc': the number of processes (parallel simulations)\n",
        "     |      :return: a tuple of two elements at the end of the optimization process:\n",
        "     |                  - the value of optimal parameters\n",
        "     |                  - the associated cost function\n",
        "     |  \n",
        "     |  ----------------------------------------------------------------------\n",
        "     |  Data descriptors defined here:\n",
        "     |  \n",
        "     |  __dict__\n",
        "     |      dictionary for instance variables (if defined)\n",
        "     |  \n",
        "     |  __weakref__\n",
        "     |      list of weak references to the object (if defined)\n",
        "\n",
        "DATA\n",
        "    __all__ = ['newop', 'numval', 'validate', 'Newop']\n",
        "    __author__ = 'Fabrice Zaoui'\n",
        "    __copyright__ = 'Copyright EDF 2017'\n",
        "    __email__ = 'fabrice.zaoui@edf.fr'\n",
        "    __license__ = 'GPL'\n",
        "    __maintainer__ = 'Fabrice Zaoui'\n",
        "    __status__ = 'Implementation'\n",
        "    __version__ = '0.01'\n",
        "\n",
        "VERSION\n",
        "    0.01\n",
        "\n",
        "AUTHOR\n",
        "    Fabrice Zaoui\n",
        "\n",
        "\n"
       ]
      }
     ],
     "prompt_number": 2
    },
    {
     "cell_type": "heading",
     "level": 1,
     "metadata": {
      "collapsed": true
     },
     "source": [
      "The Telemac2d test case"
     ]
    },
    {
     "cell_type": "markdown",
     "metadata": {},
     "source": [
      "A problem is created with the 'estimation' example located in '$HOMETEL/examples/telemac2d/estimation'."
     ]
    },
    {
     "cell_type": "markdown",
     "metadata": {},
     "source": [
      "The test case 'estimation' is dedicated to the automatic calibration problem. This Telemac-2D model is composed of 551 triangular mesh elements. On the upstream of the model, an imposed flow type boundary condition is used. On downstream, a water depth is applied."
     ]
    },
    {
     "cell_type": "markdown",
     "metadata": {},
     "source": [
      "The script 'studyT2d.py' has been written to manage this case with the Telemac API (initialization of the case, run of the case, get some important values on the physical variables)."
     ]
    },
    {
     "cell_type": "code",
     "collapsed": false,
     "input": [
      "from TelApy.tools.studyT2d import StudyTelemac2D\n",
      "import numpy as np\n",
      "import os"
     ],
     "language": "python",
     "metadata": {},
     "outputs": [],
     "prompt_number": 3
    },
    {
     "cell_type": "heading",
     "level": 1,
     "metadata": {},
     "source": [
      "Goal"
     ]
    },
    {
     "cell_type": "markdown",
     "metadata": {
      "collapsed": true
     },
     "source": [
      "The calibration aims at minimizing the error between observations and Telemac computations on the water depths. Six observations are available on the middle of the domain. A norm is used to evaluate the error as follows:"
     ]
    },
    {
     "cell_type": "code",
     "collapsed": true,
     "input": [
      "def estimation(CHESTR):\n",
      "    YObs = [5.000000000000000000e-01, 7.517873224063527093e-01, \\\n",
      "            7.517873219825667030e-01, 7.517873219442824384e-01, \\\n",
      "            7.517873221409325790e-01, 7.517873218929342904e-01]\n",
      "    YObs = np.asmatrix(np.ravel(YObs)).T # six observations\n",
      "    Fx = study.HX(CHESTR[0]) # Telemac computation with new friction coefficient\n",
      "    Res = np.linalg.norm(YObs -Fx) # The norm evaluation\n",
      "    return np.array(Res)"
     ],
     "language": "python",
     "metadata": {},
     "outputs": [],
     "prompt_number": 4
    },
    {
     "cell_type": "heading",
     "level": 1,
     "metadata": {},
     "source": [
      "Reading the case"
     ]
    },
    {
     "cell_type": "code",
     "collapsed": false,
     "input": [
      "# Changing of directory : 'examples' directory of the Telemac sources\n",
      "HOMETEL = os.environ.get('HOMETEL')\n",
      "os.chdir(HOMETEL + '/examples/telemac2d/estimation')"
     ],
     "language": "python",
     "metadata": {},
     "outputs": [],
     "prompt_number": 5
    },
    {
     "cell_type": "code",
     "collapsed": true,
     "input": [
      "#  Telemac 2d files\n",
      "studyFiles={'t2d.f'   :'user_fortran',\\\n",
      "            't2d.cas' :'t2d_estimation_basic.cas',\\\n",
      "            'f2d.slf' :'f2d_estimation.slf',\\\n",
      "            't2d.geo' :'geo_estimation.slf' }"
     ],
     "language": "python",
     "metadata": {},
     "outputs": [],
     "prompt_number": 6
    },
    {
     "cell_type": "code",
     "collapsed": true,
     "input": [
      "# Observation times\n",
      "obs_time = [0.0, 2000.0, 4000.0, 6000.0, 8000.0, 10000.0]\n",
      "# A polygon is defined to get the observation node\n",
      "poly = [(246.114, 57.3554), (261.13, 57.0189), (261.802, 45.018), (245.666, 45.3545)]"
     ],
     "language": "python",
     "metadata": {},
     "outputs": [],
     "prompt_number": 7
    },
    {
     "cell_type": "heading",
     "level": 1,
     "metadata": {},
     "source": [
      "Initialization"
     ]
    },
    {
     "cell_type": "code",
     "collapsed": false,
     "input": [
      "# Class Instantiation \n",
      "study = StudyTelemac2D(studyFiles, obs_time, poly)"
     ],
     "language": "python",
     "metadata": {},
     "outputs": [
      {
       "output_type": "stream",
       "stream": "stdout",
       "text": [
        "... parsing configuration file: /home/I21149/Modeles/TELEMAC/weirdfish/configs/systel.edf.cfg\n"
       ]
      }
     ],
     "prompt_number": 8
    },
    {
     "cell_type": "heading",
     "level": 1,
     "metadata": {},
     "source": [
      "Run the optimization"
     ]
    },
    {
     "cell_type": "code",
     "collapsed": false,
     "input": [
      "# number of variables\n",
      "nvar = 1\n",
      "# lower and upper bounds\n",
      "vbounds = np.zeros((nvar, 2))\n",
      "for i in xrange(nvar):\n",
      "    vbounds[i, 0] = 20.\n",
      "    vbounds[i, 1] = 60.\n",
      "# initial guess\n",
      "x0 = np.array([[50.]])\n",
      "# instantiation of the optimizer class\n",
      "mypb = newop.Newop()\n",
      "# initialize the optimizer with : goal function, number of variables and associated bounds\n",
      "error = mypb.initialize(estimation, nvar, vbounds)\n",
      "# launch optimization with initial guess and a maximum number of processors for parallelism\n",
      "val = mypb.optimize(x0, nproc=3)"
     ],
     "language": "python",
     "metadata": {},
     "outputs": [],
     "prompt_number": 9
    },
    {
     "cell_type": "code",
     "collapsed": false,
     "input": [
      "# Print the optimal solution for the friction coefficient\n",
      "print(val[1])"
     ],
     "language": "python",
     "metadata": {},
     "outputs": [],
     "prompt_number": null
    },
    {
     "cell_type": "code",
     "collapsed": false,
     "input": [
      "# Print the corresponding error (2-norm)\n",
      "print(val[0])"
     ],
     "language": "python",
     "metadata": {},
     "outputs": [],
     "prompt_number": null
    }
   ],
   "metadata": {}
  }
 ]
}
